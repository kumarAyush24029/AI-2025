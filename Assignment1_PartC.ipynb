{
 "cells": [
  {
   "cell_type": "code",
   "execution_count": 1,
   "id": "ba23f1a7",
   "metadata": {},
   "outputs": [],
   "source": [
    "# A* implementation for a grid maze (4-neighbours, unit costs).\n",
    "import heapq\n",
    "from typing import List, Tuple, Dict\n",
    "import numpy as np\n",
    "\n",
    "Coord = Tuple[int,int]\n",
    "\n",
    "def neighbors_4(grid: np.ndarray, r: int, c: int) -> List[Coord]:\n",
    "    H, W = grid.shape\n",
    "    ans = []\n",
    "    for dr, dc in [(-1,0),(1,0),(0,-1),(0,1)]:\n",
    "        nr, nc = r+dr, c+dc\n",
    "        if 0 <= nr < H and 0 <= nc < W and grid[nr, nc] != 1:\n",
    "            ans.append((nr,nc))\n",
    "    return ans\n",
    "\n",
    "def reconstruct_path(came_from: Dict[Coord, Coord], current: Coord) -> List[Coord]:\n",
    "    path = [current]\n",
    "    while current in came_from:\n",
    "        current = came_from[current]\n",
    "        path.append(current)\n",
    "    path.reverse()\n",
    "    return path\n",
    "\n",
    "def astar(grid: np.ndarray, start: Coord, goal: Coord, h_func, move_cost=1):\n",
    "    open_heap = []\n",
    "    g = {start: 0.0}\n",
    "    f = {start: h_func(start)}\n",
    "    heapq.heappush(open_heap, (f[start], 0, start))\n",
    "    came_from = {}\n",
    "    closed = set()\n",
    "    expansions = 0\n",
    "    tie = 0\n",
    "    while open_heap:\n",
    "        _, _, current = heapq.heappop(open_heap)\n",
    "        if current in closed:\n",
    "            continue\n",
    "        expansions += 1\n",
    "        if current == goal:\n",
    "            path = reconstruct_path(came_from, current)\n",
    "            return path, g[current], expansions\n",
    "        closed.add(current)\n",
    "        r, c = current\n",
    "        for nb in neighbors_4(grid, r, c):\n",
    "            tentative_g = g[current] + move_cost\n",
    "            if nb not in g or tentative_g < g[nb]:\n",
    "                came_from[nb] = current\n",
    "                g[nb] = tentative_g\n",
    "                f[nb] = g[nb] + h_func(nb)\n",
    "                tie += 1\n",
    "                heapq.heappush(open_heap, (f[nb], tie, nb))\n",
    "    return [], float('inf'), expansions\n",
    "\n",
    "def dijkstra_grid(grid: np.ndarray, start: Coord, goal: Coord, move_cost=1):\n",
    "    return astar(grid, start, goal, lambda _: 0.0, move_cost=move_cost)\n"
   ]
  },
  {
   "cell_type": "code",
   "execution_count": 2,
   "id": "4e5d8d70",
   "metadata": {},
   "outputs": [],
   "source": [
    "maze = np.array([\n",
    " [0,0,0,1,0,0,0,0],\n",
    " [1,1,0,1,0,1,1,0],\n",
    " [0,0,0,0,0,0,1,0],\n",
    " [0,1,1,1,1,0,1,0],\n",
    " [0,0,0,0,1,0,0,0],\n",
    " [0,1,1,0,0,0,1,0],\n",
    " [0,0,0,0,1,0,0,0],\n",
    " [0,1,0,0,0,0,1,0],\n",
    "], dtype=int)\n",
    "start = (0,0)\n",
    "goal  = (7,7)\n"
   ]
  },
  {
   "cell_type": "code",
   "execution_count": 3,
   "id": "9aa7706d",
   "metadata": {},
   "outputs": [],
   "source": [
    "def h_manhattan(s): return abs(s[0]-goal[0]) + abs(s[1]-goal[1])\n"
   ]
  },
  {
   "cell_type": "code",
   "execution_count": 4,
   "id": "3d11608e",
   "metadata": {},
   "outputs": [],
   "source": [
    "def h_scaled_1p5(s): return 1.5 * (abs(s[0]-goal[0]) + abs(s[1]-goal[1]))\n"
   ]
  },
  {
   "cell_type": "code",
   "execution_count": 5,
   "id": "1559b6d7",
   "metadata": {},
   "outputs": [],
   "source": [
    "bad_node = (2,4)\n",
    "def h_locally_inconsistent(s):\n",
    "    base = abs(s[0]-goal[0]) + abs(s[1]-goal[1])\n",
    "    return float(base + 3) if s == bad_node else float(base)\n"
   ]
  },
  {
   "cell_type": "code",
   "execution_count": null,
   "id": "029ee666",
   "metadata": {},
   "outputs": [],
   "source": []
  }
 ],
 "metadata": {
  "kernelspec": {
   "display_name": "Python 3",
   "language": "python",
   "name": "python3"
  },
  "language_info": {
   "codemirror_mode": {
    "name": "ipython",
    "version": 3
   },
   "file_extension": ".py",
   "mimetype": "text/x-python",
   "name": "python",
   "nbconvert_exporter": "python",
   "pygments_lexer": "ipython3",
   "version": "3.12.3"
  }
 },
 "nbformat": 4,
 "nbformat_minor": 5
}
