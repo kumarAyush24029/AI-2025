{
 "cells": [
  {
   "cell_type": "code",
   "execution_count": 1,
   "id": "ba23f1a7",
   "metadata": {},
   "outputs": [
    {
     "name": "stdout",
     "output_type": "stream",
     "text": [
      "Path: [(0, 0), (0, 1), (0, 2), (1, 2), (2, 2), (2, 3), (2, 4), (3, 4), (4, 4)]\n",
      "Cost: 8\n"
     ]
    },
    {
     "data": {
      "image/png": "[encoded data removed]",
      "text/plain": [
       "<Figure size 600x600 with 1 Axes>"
      ]
     },
     "metadata": {},
     "output_type": "display_data"
    }
   ],
   "source": [
    "import heapq\n",
    "import matplotlib.pyplot as plt\n",
    "import numpy as np\n",
    "\n",
    "# ---------- A* Search ----------\n",
    "def heuristic(a, b, htype=\"manhattan\"):\n",
    "    (x1, y1), (x2, y2) = a, b\n",
    "    dist = abs(x1 - x2) + abs(y1 - y2)\n",
    "    if htype == \"manhattan\":\n",
    "        return dist\n",
    "    if htype == \"scaled\":\n",
    "        return 1.5 * dist\n",
    "    if htype == \"inconsistent\":\n",
    "        return dist + (3 if (x1, y1) == (1, 1) else 0)\n",
    "    return 0\n",
    "\n",
    "def astar(maze, start, goal, htype=\"manhattan\"):\n",
    "    rows, cols = len(maze), len(maze[0])\n",
    "    open_list = [(heuristic(start, goal, htype), 0, start, [start])]\n",
    "    visited = set()\n",
    "\n",
    "    while open_list:\n",
    "        f, g, node, path = heapq.heappop(open_list)\n",
    "        if node in visited: \n",
    "            continue\n",
    "        visited.add(node)\n",
    "\n",
    "        if node == goal:\n",
    "            return path, g\n",
    "\n",
    "        x, y = node\n",
    "        for dx, dy in [(-1,0),(1,0),(0,-1),(0,1)]:\n",
    "            nx, ny = x+dx, y+dy\n",
    "            if 0 <= nx < rows and 0 <= ny < cols and maze[nx][ny] == 0:\n",
    "                new_path = path + [(nx, ny)]\n",
    "                new_g = g + 1\n",
    "                h = heuristic((nx, ny), goal, htype)\n",
    "                heapq.heappush(open_list, (new_g + h, new_g, (nx, ny), new_path))\n",
    "    return None, float(\"inf\")\n",
    "\n",
    "# ---------- Visualization ----------\n",
    "def visualize_maze(maze, path, start, goal):\n",
    "    maze = np.array(maze)\n",
    "    img = np.ones((*maze.shape, 3))  # white background\n",
    "\n",
    "    # Walls in black\n",
    "    img[maze == 1] = [0, 0, 0]\n",
    "\n",
    "    # Path in green\n",
    "    if path:\n",
    "        for r, c in path:\n",
    "            img[r, c] = [0, 1, 0]\n",
    "\n",
    "    # Start (blue) and Goal (red)\n",
    "    img[start] = [0, 0, 1]\n",
    "    img[goal] = [1, 0, 0]\n",
    "\n",
    "    plt.figure(figsize=(6, 6))\n",
    "    plt.imshow(img, interpolation=\"nearest\")\n",
    "    plt.xticks([]), plt.yticks([])\n",
    "    plt.title(\"A* Search Path\")\n",
    "    plt.show()\n",
    "\n",
    "# ---------- Example ----------\n",
    "maze = [\n",
    "    [0,0,0,1,0],\n",
    "    [1,0,0,1,0],\n",
    "    [0,0,0,0,0],\n",
    "    [0,1,1,1,0],\n",
    "    [0,0,0,0,0]\n",
    "]\n",
    "start, goal = (0,0), (4,4)\n",
    "\n",
    "path, cost = astar(maze, start, goal, htype=\"manhattan\")\n",
    "print(\"Path:\", path)\n",
    "print(\"Cost:\", cost)\n",
    "\n",
    "visualize_maze(maze, path, start, goal)\n"
   ]
  }
 ],
 "metadata": {
  "kernelspec": {
   "display_name": "Python 3",
   "language": "python",
   "name": "python3"
  },
  "language_info": {
   "codemirror_mode": {
    "name": "ipython",
    "version": 3
   },
   "file_extension": ".py",
   "mimetype": "text/x-python",
   "name": "python",
   "nbconvert_exporter": "python",
   "pygments_lexer": "ipython3",
   "version": "3.12.3"
  }
 },
 "nbformat": 4,
 "nbformat_minor": 5
}
