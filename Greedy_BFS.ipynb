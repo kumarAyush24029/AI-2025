{
 "cells": [
  {
   "cell_type": "code",
   "execution_count": null,
   "id": "1cf96b6c",
   "metadata": {},
   "outputs": [],
   "source": []
  },
  {
   "cell_type": "code",
   "execution_count": 8,
   "id": "305f9daf",
   "metadata": {},
   "outputs": [],
   "source": [
    "import heapq\n",
    "#i am writtting funtion to return the co-ordinatal  distance between any two given positions.\n",
    "def manhattan(position1,position2):\n",
    "    return abs(position1[0]-position2[0])+abs(position1[1]-position2[1])"
   ]
  },
  {
   "cell_type": "code",
   "execution_count": 9,
   "id": "821ab21e",
   "metadata": {},
   "outputs": [],
   "source": [
    "#now writting the code to get neighbors in all 4 directions from any given position.\n",
    "def get_neighbors(position,maze):\n",
    "    neighbors=[]\n",
    "    directions=[(1,0),(0,1),(0,-1),(-1,0)] #down,right,left,up\n",
    "    rows,columns =len(maze),len(maze[0])\n",
    "    for dx,dy in directions:\n",
    "        nx,ny=position[0]+dx,position[1]+dy\n",
    "        if 0<=nx<rows and 0<=ny<columns and maze[nx][ny]!=1:\n",
    "            neighbors.append((nx,ny))\n",
    "    return neighbors        \n",
    "    "
   ]
  },
  {
   "cell_type": "code",
   "execution_count": 10,
   "id": "d586c759",
   "metadata": {},
   "outputs": [],
   "source": [
    "#writting code to replace A and B with zero and to covert maze to numeric values for processing\n",
    "def processed_maz(maze):\n",
    "    processed_maze=[]\n",
    "    for row in maze:\n",
    "        new_row=[]\n",
    "        for cell in row:\n",
    "            if cell=='A':\n",
    "                start=(maze.index(row),row.index(cell))\n",
    "                new_row.append(0)\n",
    "            elif cell=='B':\n",
    "                destination=(maze.index(row),row.index(cell))\n",
    "                new_row.append(0)\n",
    "            else:\n",
    "                new_row.append(cell)\n",
    "        processed_maze.append(new_row)\n",
    "    return processed_maze,start,destination                    \n",
    "    "
   ]
  },
  {
   "cell_type": "code",
   "execution_count": 13,
   "id": "533e7254",
   "metadata": {},
   "outputs": [],
   "source": [
    "#now writting the actual code for greedy fist search GFS\n",
    "def greedy_bfs(maze):\n",
    "    processed_maze,start,destination=processed_maz(maze)\n",
    "    visited=set()\n",
    "    came_from={}\n",
    "    heap=[]\n",
    "    heapq.heappush(heap,(manhattan(start,destination),start))\n",
    "    while heap:\n",
    "        _,curr_pos=heapq.heappop(heap)\n",
    "        if curr_pos==destination:\n",
    "            break\n",
    "        if curr_pos not in visited:\n",
    "            visited.add(curr_pos)\n",
    "        for neighbor in get_neighbors(curr_pos,maze):\n",
    "            if neighbor not in visited:\n",
    "                heapq.heappush(heap,(manhattan(neighbor,destination),neighbor))\n",
    "                if neighbor not in came_from:\n",
    "                    came_from[neighbor]=curr_pos\n",
    "                    \n",
    "                    \n",
    "        #reconstructing the path\n",
    "        path=[]\n",
    "        curr=destination\n",
    "        while curr!=start:\n",
    "            path.append(curr)\n",
    "            curr=came_from.get(curr)\n",
    "            if curr is None:\n",
    "                print(\"no path found\")\n",
    "                return []\n",
    "        path.append(start)\n",
    "        path.reverse()\n",
    "        return path    \n",
    "             \n",
    "        \n",
    "            "
   ]
  },
  {
   "cell_type": "code",
   "execution_count": 14,
   "id": "4331a79a",
   "metadata": {},
   "outputs": [
    {
     "name": "stdout",
     "output_type": "stream",
     "text": [
      "no path found\n",
      "[]\n"
     ]
    }
   ],
   "source": [
    "\n",
    "maze5 = [\n",
    "    ['A', 0,  1,  0,  0,  0, 1, 0, 0, 1, 0, 0],\n",
    "    [0,   0,  1,  0,  1,  0, 1, 0, 1, 0, 0, 0],\n",
    "    [1,   0,  0,  0,  1,  0, 0, 0, 1, 1, 1, 0],\n",
    "    [0,   1,  1,  0,  0,  1, 1, 0, 0, 0, 1, 0],\n",
    "    [0,   0,  0,  0,  1,  0, 1, 1, 1, 0, 0, 0],\n",
    "    [1,   1,  1,  0,  1,  0, 0, 0, 1, 1, 1, 0],\n",
    "    [0,   0,  1,  0,  0,  0, 1, 0, 0, 0, 1, 0],\n",
    "    [0,   1,  0,  1,  1,  0, 1, 1, 1, 0, 1, 0],\n",
    "    [0,   0,  0,  0,  0,  0, 0, 0, 1, 0, 0, 0],\n",
    "    [1,   1,  1,  1,  1,  1, 0, 1, 0, 1, 1, 0],\n",
    "    [0,   0,  0,  0,  0,  0, 0, 1, 0, 0, 0, 0],\n",
    "    [0,   1,  1,  1,  1,  1, 1, 1, 1, 1, 1,'B'],\n",
    "]\n",
    "path=greedy_bfs(maze5)\n",
    "print(path)"
   ]
  }
 ],
 "metadata": {
  "kernelspec": {
   "display_name": "Python 3",
   "language": "python",
   "name": "python3"
  },
  "language_info": {
   "codemirror_mode": {
    "name": "ipython",
    "version": 3
   },
   "file_extension": ".py",
   "mimetype": "text/x-python",
   "name": "python",
   "nbconvert_exporter": "python",
   "pygments_lexer": "ipython3",
   "version": "3.12.3"
  }
 },
 "nbformat": 4,
 "nbformat_minor": 5
}
