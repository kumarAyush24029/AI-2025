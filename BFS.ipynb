{
 "cells": [
  {
   "cell_type": "code",
   "execution_count": null,
   "id": "d1defd7b",
   "metadata": {},
   "outputs": [],
   "source": [
    "graph={\"A\":[\"B\",\"C\"],\"B\":[\"D\",\"E\"],}\n",
    "def BFS(graph):\n",
    "    "
   ]
  },
  {
   "cell_type": "code",
   "execution_count": 1,
   "id": "5c836104",
   "metadata": {},
   "outputs": [],
   "source": [
    "graph = {\"u\":[\"x\",\"v\"],\"x\":[\"v\"],\"v\":[\"y\"],\"y\":[\"x\"],\"w\":[\"y\",\"z\"],\"z\":[]}\n",
    "\n",
    "vertices = [\"u\",\"v\",\"w\",\"x\",\"y\",\"z\"]\n",
    "color = {}\n",
    "parent = {}\n",
    "time = 0\n",
    "def dfs_color(vertices):\n",
    "    for vertex in vertices:\n",
    "        color[vertex] = \"white\"\n",
    "        parent[vertex] = None\n",
    "\n",
    "    return vertices\n",
    "def dfs_visit(graph,vertex):\n",
    "    color[vertex] = \"gray\"\n",
    "    for v in graph[vertex]:\n",
    "        if color[v] == \"white\":\n",
    "            parent[v] = vertex\n",
    "            dfs_visit(graph, v)\n",
    "    color[vertex] = \"black\"\n",
    "def dfs(graph, vertices):\n",
    "    vertices = dfs_color(vertices)\n",
    "    for vertex in vertices:\n",
    "        if color[vertex] == \"white\":\n",
    "            dfs_visit(graph, vertex)"
   ]
  },
  {
   "cell_type": "code",
   "execution_count": 5,
   "id": "44c639cb",
   "metadata": {},
   "outputs": [
    {
     "name": "stdout",
     "output_type": "stream",
     "text": [
      "[0, 0, 1, 0, 0, 0, 1, 0, 0, 1, 0, 0]\n",
      "[0, 0, 1, 0, 1, 0, 1, 0, 1, 0, 0, 0]\n",
      "[1, 0, 0, 0, 1, 0, 0, 0, 1, 1, 1, 0]\n",
      "[0, 1, 1, 0, 0, 1, 1, 0, 0, 0, 1, 0]\n",
      "[0, 0, 0, 0, 1, 0, 1, 1, 1, 0, 0, 0]\n",
      "[1, 1, 1, 0, 1, 0, 0, 0, 1, 1, 1, 0]\n",
      "[0, 0, 1, 0, 0, 0, 1, 0, 0, 0, 1, 0]\n",
      "[0, 1, 0, 1, 1, 0, 1, 1, 1, 0, 1, 0]\n",
      "[0, 0, 0, 0, 0, 0, 0, 0, 1, 0, 0, 0]\n",
      "[1, 1, 1, 1, 1, 1, 0, 1, 0, 1, 1, 0]\n",
      "[0, 0, 0, 0, 0, 0, 0, 1, 0, 0, 0, 0]\n",
      "[0, 1, 1, 1, 1, 1, 1, 1, 1, 1, 1, 0]\n"
     ]
    }
   ],
   "source": [
    "maze5 = [\n",
    "    ['A', 0,  1,  0,  0,  0, 1, 0, 0, 1, 0, 0],\n",
    "    [0,   0,  1,  0,  1,  0, 1, 0, 1, 0, 0, 0],\n",
    "    [1,   0,  0,  0,  1,  0, 0, 0, 1, 1, 1, 0],\n",
    "    [0,   1,  1,  0,  0,  1, 1, 0, 0, 0, 1, 0],\n",
    "    [0,   0,  0,  0,  1,  0, 1, 1, 1, 0, 0, 0],\n",
    "    [1,   1,  1,  0,  1,  0, 0, 0, 1, 1, 1, 0],\n",
    "    [0,   0,  1,  0,  0,  0, 1, 0, 0, 0, 1, 0],\n",
    "    [0,   1,  0,  1,  1,  0, 1, 1, 1, 0, 1, 0],\n",
    "    [0,   0,  0,  0,  0,  0, 0, 0, 1, 0, 0, 0],\n",
    "    [1,   1,  1,  1,  1,  1, 0, 1, 0, 1, 1, 0],\n",
    "    [0,   0,  0,  0,  0,  0, 0, 1, 0, 0, 0, 0],\n",
    "    [0,   1,  1,  1,  1,  1, 1, 1, 1, 1, 1,'B'],\n",
    "]\n",
    "\n",
    "def processed_maze(maze):\n",
    "\n",
    "    # Convert maze to numeric values for processing\n",
    "    processed_maze = []\n",
    "    for row in maze:\n",
    "        new_row = []\n",
    "        # print()\n",
    "        for cell in row:\n",
    "            if cell == 'A':\n",
    "                start = (maze.index(row), row.index(cell))\n",
    "                new_row.append(0)\n",
    "            elif cell == 'B':\n",
    "                goal = (maze.index(row), row.index(cell))\n",
    "                new_row.append(0)\n",
    "            else:\n",
    "                new_row.append(cell)\n",
    "        # print()\n",
    "        processed_maze.append(new_row)\n",
    "    return processed_maze, start, goal\n",
    "maze_matrix, start, goal = processed_maze(maze5)\n",
    "# print(processed_maze(maze5))\n",
    "# Print nicely as a matrix\n",
    "for row in maze_matrix:\n",
    "    print(row)\n"
   ]
  }
 ],
 "metadata": {
  "kernelspec": {
   "display_name": "Python 3",
   "language": "python",
   "name": "python3"
  },
  "language_info": {
   "codemirror_mode": {
    "name": "ipython",
    "version": 3
   },
   "file_extension": ".py",
   "mimetype": "text/x-python",
   "name": "python",
   "nbconvert_exporter": "python",
   "pygments_lexer": "ipython3",
   "version": "3.12.3"
  }
 },
 "nbformat": 4,
 "nbformat_minor": 5
}
